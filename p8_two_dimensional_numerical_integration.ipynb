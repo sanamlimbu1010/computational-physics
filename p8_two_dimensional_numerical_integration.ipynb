{
 "cells": [
  {
   "cell_type": "markdown",
   "metadata": {},
   "source": [
    "### Computational Physics: Project 8\n",
    "- The task is to integrate the function $f(x, y) = 2x^2 + 3xy + y^2$ in the region $x^2+y^2 \\leq 0.5 =: R^2$.\n",
    "- The analytic solution was found using polar coordinates to be $\\dfrac{3 \\pi R^4}{4} \\approx 0.5890486$.\n",
    "- Midpoint approximation method for 2-dim is expected to converge as $\\frac{1}{n}$, while the standard deviation of measurements for Monte carlo method is expected to converge as $\\frac{\\sigma }{\\sqrt n}$. Although such trends could be observed, it was varying significantly for Monte Carlo method.\n",
    "- However, both methods converge to the analytic solution."
   ]
  },
  {
   "cell_type": "code",
   "execution_count": 111,
   "metadata": {},
   "outputs": [
    {
     "data": {
      "image/png": "[encoded data removed]",
      "text/plain": [
       "<Figure size 600x400 with 1 Axes>"
      ]
     },
     "metadata": {
      "needs_background": "light"
     },
     "output_type": "display_data"
    }
   ],
   "source": [
    "import numpy as np\n",
    "import matplotlib.pyplot as plt\n",
    "import random\n",
    "\n",
    "# given function\n",
    "def f(x, y):\n",
    "    return 2*x**2 + 3*x*y + y**2\n",
    "\n",
    "# parameters\n",
    "a0 = 1\n",
    "R = np.sqrt(0.5)\n",
    "\n",
    "# midpoint approximation\n",
    "def mid_approx(h, a=a0):\n",
    "    nx = ny = int(2*a / h)\n",
    "    f_sum = 0\n",
    "    \n",
    "    for i in range(nx):\n",
    "        x = -a + (i + 1/2) * h\n",
    "        for j in range(ny):\n",
    "            y = -a + (j + 1/2) * h\n",
    "            \n",
    "            if (x**2 + y**2 <= 0.5):\n",
    "                f_sum += f(x, y)\n",
    "\n",
    "    return f_sum * h**2\n",
    "    \n",
    "# Monte Carlo method\n",
    "def monte_carlo(h, a=a0):\n",
    "    nx = ny = int(2*a / h)\n",
    "    f_sum = 0\n",
    "    random.seed()\n",
    "    \n",
    "    for i in range(nx * ny):\n",
    "        x = random.uniform(-a, a)\n",
    "        y = random.uniform(-a, a)\n",
    "        \n",
    "        if (x**2 + y**2 <= 0.5):\n",
    "            f_sum += f(x, y)\n",
    "            \n",
    "    return f_sum * h**2\n",
    "\n",
    "h_arr = [0.1, 0.05, 0.025, 0.0125]   # grid spacing\n",
    "n_h = len(h_arr)\n",
    "m = 20                               # m measurements for Monte Carlo\n",
    "\n",
    "F0 = 3 * np.pi / 4 * R**4            # analytic solution\n",
    "F_mid = np.zeros((n_h, 2))           # midpoint method (value, error)\n",
    "F_temp = np.zeros((n_h, m))        \n",
    "F_MC = np.zeros((n_h, 3))            # Monte Carlo method (value, error, standard deviation)\n",
    "\n",
    "for i in range(n_h):\n",
    "    h = h_arr[i]\n",
    "    F_mid[i][0] = mid_approx(h)      # value\n",
    "    F_mid[i][1] = F0 - F_mid[i][0]   # error\n",
    "    \n",
    "    for j in range(m):\n",
    "        xx = F_temp[i][j] = monte_carlo(h)\n",
    "        \n",
    "    F_MC[i][0] = np.mean(F_temp[i])  # mean value\n",
    "    F_MC[i][1] = F0 - F_MC[i][0]     # error\n",
    "    F_MC[i][2] = np.std(F_temp[i])   # standard deviation \n",
    "\n",
    "# plot\n",
    "n_arr = [(int(2*a0 / h))**2 for h in h_arr]  # no. of grid points or trails\n",
    "plt.figure(dpi=100)\n",
    "plt.hlines(F0, n_arr[0], n_arr[n_h-1], ls='dotted', color='g', label='analytic solution')\n",
    "\n",
    "plt.scatter(n_arr, F_mid[:, 0], label='midpoint approx.', color='r')\n",
    "plt.scatter(n_arr, F_MC[:, 0], label='Monte Carlo')\n",
    "\n",
    "# Monte Carlo with standard deviation\n",
    "# plt.errorbar(n_arr, F_MC[:, 0], yerr=F_MC[:, 2], label='Monte Carlo', ls='', marker='s')\n",
    "\n",
    "plt.legend(loc='lower right')\n",
    "plt.xlabel('n')\n",
    "plt.show()"
   ]
  },
  {
   "cell_type": "code",
   "execution_count": 70,
   "metadata": {},
   "outputs": [
    {
     "data": {
      "text/plain": [
       "0.5890486225480862"
      ]
     },
     "execution_count": 70,
     "metadata": {},
     "output_type": "execute_result"
    }
   ],
   "source": [
    "3/4 * np.pi * 0.5**2"
   ]
  },
  {
   "cell_type": "code",
   "execution_count": null,
   "metadata": {},
   "outputs": [],
   "source": []
  }
 ],
 "metadata": {
  "kernelspec": {
   "display_name": "Python 3",
   "language": "python",
   "name": "python3"
  },
  "language_info": {
   "codemirror_mode": {
    "name": "ipython",
    "version": 3
   },
   "file_extension": ".py",
   "mimetype": "text/x-python",
   "name": "python",
   "nbconvert_exporter": "python",
   "pygments_lexer": "ipython3",
   "version": "3.8.5"
  }
 },
 "nbformat": 4,
 "nbformat_minor": 4
}
